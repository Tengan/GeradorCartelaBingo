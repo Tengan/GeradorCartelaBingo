{
 "cells": [
  {
   "cell_type": "code",
   "execution_count": 72,
   "metadata": {},
   "outputs": [],
   "source": [
    "cartela=[[]]"
   ]
  },
  {
   "cell_type": "code",
   "execution_count": 79,
   "metadata": {},
   "outputs": [],
   "source": [
    "import random"
   ]
  },
  {
   "cell_type": "code",
   "execution_count": 81,
   "metadata": {},
   "outputs": [],
   "source": [
    "from random import randint"
   ]
  },
  {
   "cell_type": "code",
   "execution_count": 6,
   "metadata": {},
   "outputs": [
    {
     "data": {
      "text/plain": [
       "[[]]"
      ]
     },
     "execution_count": 6,
     "metadata": {},
     "output_type": "execute_result"
    }
   ],
   "source": [
    "cartela"
   ]
  },
  {
   "cell_type": "code",
   "execution_count": 7,
   "metadata": {},
   "outputs": [],
   "source": [
    "import numpy as np"
   ]
  },
  {
   "cell_type": "code",
   "execution_count": 8,
   "metadata": {},
   "outputs": [
    {
     "data": {
      "text/plain": [
       "<function numpy.core.multiarray.array>"
      ]
     },
     "execution_count": 8,
     "metadata": {},
     "output_type": "execute_result"
    }
   ],
   "source": [
    "np.array"
   ]
  },
  {
   "cell_type": "code",
   "execution_count": 10,
   "metadata": {},
   "outputs": [],
   "source": [
    "cartela = np.array((5,5))"
   ]
  },
  {
   "cell_type": "code",
   "execution_count": 11,
   "metadata": {},
   "outputs": [
    {
     "data": {
      "text/plain": [
       "array([5, 5])"
      ]
     },
     "execution_count": 11,
     "metadata": {},
     "output_type": "execute_result"
    }
   ],
   "source": [
    "cartela"
   ]
  },
  {
   "cell_type": "code",
   "execution_count": 12,
   "metadata": {},
   "outputs": [
    {
     "data": {
      "text/plain": [
       "array([[0., 0., 0., 0.],\n",
       "       [0., 0., 0., 0.],\n",
       "       [0., 0., 0., 0.],\n",
       "       [0., 0., 0., 0.]])"
      ]
     },
     "execution_count": 12,
     "metadata": {},
     "output_type": "execute_result"
    }
   ],
   "source": [
    "np.zeros((4,4), dtype=np.float64)"
   ]
  },
  {
   "cell_type": "code",
   "execution_count": 83,
   "metadata": {},
   "outputs": [],
   "source": [
    "cartela = np.zeros((5,5), dtype=np.float64)"
   ]
  },
  {
   "cell_type": "code",
   "execution_count": 84,
   "metadata": {},
   "outputs": [
    {
     "data": {
      "text/plain": [
       "array([[0., 0., 0., 0., 0.],\n",
       "       [0., 0., 0., 0., 0.],\n",
       "       [0., 0., 0., 0., 0.],\n",
       "       [0., 0., 0., 0., 0.],\n",
       "       [0., 0., 0., 0., 0.]])"
      ]
     },
     "execution_count": 84,
     "metadata": {},
     "output_type": "execute_result"
    }
   ],
   "source": [
    "cartela"
   ]
  },
  {
   "cell_type": "code",
   "execution_count": 85,
   "metadata": {},
   "outputs": [],
   "source": [
    "cartela[0,0] = random.randint(1, 15)\n",
    "cartela[1,0] = random.randint(1, 15)\n",
    "while(cartela[1,0]==cartela[0,0]):\n",
    "    cartela[1,0] = random.randint(1, 15)\n",
    "    \n",
    "cartela[2,0] = random.randint(1, 15)\n",
    "\n",
    "while(cartela[2,0]==cartela[0,0] or cartela[2,0]==cartela[1,0]):\n",
    "    cartela[2,0] = random.randint(1, 15)\n",
    "    \n",
    "cartela[3,0] = random.randint(1, 15)\n",
    "\n",
    "while(cartela[3,0]==cartela[0,0] or cartela[3,0]==cartela[1,0] or cartela[3,0]==cartela[2,0]):\n",
    "    cartela[3,0] = random.randint(1, 15)\n",
    "\n",
    "cartela[4,0] = random.randint(1, 15)\n",
    "\n",
    "while(cartela[4,0]==cartela[0,0] or cartela[4,0]==cartela[1,0] or cartela[4,0]==cartela[2,0] or cartela[4,0]==cartela[3,0]):\n",
    "    cartela[4,0] = random.randint(1, 15)\n",
    "    "
   ]
  },
  {
   "cell_type": "code",
   "execution_count": 86,
   "metadata": {},
   "outputs": [
    {
     "data": {
      "text/plain": [
       "array([[ 4.,  0.,  0.,  0.,  0.],\n",
       "       [ 8.,  0.,  0.,  0.,  0.],\n",
       "       [ 3.,  0.,  0.,  0.,  0.],\n",
       "       [13.,  0.,  0.,  0.,  0.],\n",
       "       [ 5.,  0.,  0.,  0.,  0.]])"
      ]
     },
     "execution_count": 86,
     "metadata": {},
     "output_type": "execute_result"
    }
   ],
   "source": [
    "cartela"
   ]
  },
  {
   "cell_type": "code",
   "execution_count": 87,
   "metadata": {},
   "outputs": [],
   "source": [
    "cartela[0,1] = random.randint(16, 30)\n",
    "cartela[1,1] = random.randint(16, 30)\n",
    "while(cartela[1,1]==cartela[0,1]):\n",
    "    cartela[1,1] = random.randint(16, 30)\n",
    "    \n",
    "cartela[2,1] = random.randint(16, 30)\n",
    "\n",
    "while(cartela[2,1]==cartela[0,1] or cartela[2,1]==cartela[1,1]):\n",
    "    cartela[2,1] = random.randint(16, 30)\n",
    "    \n",
    "cartela[3,1] = random.randint(16, 30)\n",
    "\n",
    "while(cartela[3,1]==cartela[0,1] or cartela[3,1]==cartela[1,1] or cartela[3,1]==cartela[2,1]):\n",
    "    cartela[3,1] = random.randint(16, 30)\n",
    "\n",
    "cartela[4,1] = random.randint(16, 30)\n",
    "\n",
    "while(cartela[4,1]==cartela[0,1] or cartela[4,1]==cartela[1,1] or cartela[4,1]==cartela[2,1] or cartela[4,1]==cartela[3,1]):\n",
    "    cartela[4,1] = random.randint(16, 30)"
   ]
  },
  {
   "cell_type": "code",
   "execution_count": 88,
   "metadata": {},
   "outputs": [
    {
     "data": {
      "text/plain": [
       "array([[ 4., 29.,  0.,  0.,  0.],\n",
       "       [ 8., 27.,  0.,  0.,  0.],\n",
       "       [ 3., 21.,  0.,  0.,  0.],\n",
       "       [13., 22.,  0.,  0.,  0.],\n",
       "       [ 5., 28.,  0.,  0.,  0.]])"
      ]
     },
     "execution_count": 88,
     "metadata": {},
     "output_type": "execute_result"
    }
   ],
   "source": [
    "cartela"
   ]
  },
  {
   "cell_type": "code",
   "execution_count": 97,
   "metadata": {},
   "outputs": [],
   "source": [
    "cartela[0,2] = random.randint(31, 45)\n",
    "cartela[1,2] = random.randint(31, 45)\n",
    "while(cartela[1,2]==cartela[0,2]):\n",
    "    cartela[1,2] = random.randint(31, 45)\n",
    "    \n",
    "cartela[2,2] = 0\n",
    "    \n",
    "cartela[3,2] = random.randint(31, 45)\n",
    "\n",
    "while(cartela[3,2]==cartela[0,2] or cartela[3,2]==cartela[1,2] or cartela[3,2]==cartela[2,2]):\n",
    "    cartela[3,2] = random.randint(31, 45)\n",
    "\n",
    "cartela[4,2] = random.randint(31, 45)\n",
    "\n",
    "while(cartela[4,2]==cartela[0,2] or cartela[4,2]==cartela[1,2] or cartela[4,2]==cartela[2,2] or cartela[4,2]==cartela[3,2]):\n",
    "    cartela[4,2] = random.randint(31, 45)"
   ]
  },
  {
   "cell_type": "code",
   "execution_count": 98,
   "metadata": {},
   "outputs": [
    {
     "data": {
      "text/plain": [
       "array([[ 4., 29., 44.,  0.,  0.],\n",
       "       [ 8., 27., 36.,  0.,  0.],\n",
       "       [ 3., 21.,  0.,  0.,  0.],\n",
       "       [13., 22., 35.,  0.,  0.],\n",
       "       [ 5., 28., 43.,  0.,  0.]])"
      ]
     },
     "execution_count": 98,
     "metadata": {},
     "output_type": "execute_result"
    }
   ],
   "source": [
    "cartela"
   ]
  },
  {
   "cell_type": "code",
   "execution_count": 102,
   "metadata": {},
   "outputs": [],
   "source": [
    "cartela[0,3] = random.randint(46, 60)\n",
    "cartela[1,3] = random.randint(46, 60)\n",
    "while(cartela[1,3]==cartela[0,3]):\n",
    "    cartela[1,3] = random.randint(46, 60)\n",
    "    \n",
    "cartela[2,3] = random.randint(46, 60)\n",
    "\n",
    "while(cartela[2,3]==cartela[0,3] or cartela[2,3]==cartela[1,3]):\n",
    "    cartela[2,3] = random.randint(46, 60)\n",
    "    \n",
    "cartela[3,3] = random.randint(46, 60)\n",
    "while(cartela[3,3]==cartela[0,3] or cartela[3,3]==cartela[1,3] or cartela[3,3]==cartela[2,3]):\n",
    "    cartela[3,3] = random.randint(46, 60)\n",
    "\n",
    "cartela[4,3] = random.randint(46, 60)\n",
    "\n",
    "while(cartela[4,3]==cartela[0,3] or cartela[4,3]==cartela[1,3] or cartela[4,3]==cartela[2,3] or cartela[4,3]==cartela[3,3]):\n",
    "    cartela[4,3] = random.randint(46, 60)"
   ]
  },
  {
   "cell_type": "code",
   "execution_count": 103,
   "metadata": {},
   "outputs": [
    {
     "data": {
      "text/plain": [
       "array([[ 4., 29., 44., 60.,  0.],\n",
       "       [ 8., 27., 36., 50.,  0.],\n",
       "       [ 3., 21.,  0., 52.,  0.],\n",
       "       [13., 22., 35., 47.,  0.],\n",
       "       [ 5., 28., 43., 57.,  0.]])"
      ]
     },
     "execution_count": 103,
     "metadata": {},
     "output_type": "execute_result"
    }
   ],
   "source": [
    "cartela"
   ]
  },
  {
   "cell_type": "code",
   "execution_count": 106,
   "metadata": {},
   "outputs": [],
   "source": [
    "cartela[0,4] = random.randint(61, 75)\n",
    "cartela[1,4] = random.randint(61, 75)\n",
    "while(cartela[1,4]==cartela[0,4]):\n",
    "    cartela[1,4] = random.randint(61, 75)\n",
    "    \n",
    "cartela[2,4] = random.randint(61, 75)\n",
    "\n",
    "while(cartela[2,4]==cartela[0,4] or cartela[2,4]==cartela[1,4]):\n",
    "    cartela[2,4] = random.randint(61, 75)\n",
    "    \n",
    "cartela[3,4] = random.randint(61, 75)\n",
    "while(cartela[3,4]==cartela[0,4] or cartela[3,4]==cartela[1,4] or cartela[3,4]==cartela[2,4]):\n",
    "    cartela[3,4] = random.randint(61, 75)\n",
    "\n",
    "cartela[4,4] = random.randint(61, 75)\n",
    "while(cartela[4,4]==cartela[0,4] or cartela[4,4]==cartela[1,4] or cartela[4,4]==cartela[2,4] or cartela[4,4]==cartela[3,4]):\n",
    "    cartela[4,4] = random.randint(61, 75)"
   ]
  },
  {
   "cell_type": "code",
   "execution_count": 107,
   "metadata": {},
   "outputs": [
    {
     "data": {
      "text/plain": [
       "array([[ 4., 29., 44., 60., 68.],\n",
       "       [ 8., 27., 36., 50., 69.],\n",
       "       [ 3., 21.,  0., 52., 74.],\n",
       "       [13., 22., 35., 47., 70.],\n",
       "       [ 5., 28., 43., 57., 73.]])"
      ]
     },
     "execution_count": 107,
     "metadata": {},
     "output_type": "execute_result"
    }
   ],
   "source": [
    "cartela"
   ]
  },
  {
   "cell_type": "code",
   "execution_count": 119,
   "metadata": {},
   "outputs": [],
   "source": [
    "def cartelaBingo():\n",
    "    import random\n",
    "    import numpy as np\n",
    "    cartela = np.zeros((5,5), dtype=np.float64)\n",
    "    \n",
    "    \n",
    "        #gerando valores 1 coluna\n",
    "    \n",
    "    cartela[0,0] = random.randint(1, 15)\n",
    "    cartela[1,0] = random.randint(1, 15)\n",
    "    while(cartela[1,0]==cartela[0,0]):\n",
    "        cartela[1,0] = random.randint(1, 15)\n",
    "    \n",
    "    cartela[2,0] = random.randint(1, 15)\n",
    "    while(cartela[2,0]==cartela[0,0] or cartela[2,0]==cartela[1,0]):\n",
    "        cartela[2,0] = random.randint(1, 15)\n",
    "\n",
    "    cartela[3,0] = random.randint(1, 15)\n",
    "    while(cartela[3,0]==cartela[0,0] or cartela[3,0]==cartela[1,0] or cartela[3,0]==cartela[2,0]):\n",
    "        cartela[3,0] = random.randint(1, 15)\n",
    "\n",
    "    cartela[4,0] = random.randint(1, 15)\n",
    "    while(cartela[4,0]==cartela[0,0] or cartela[4,0]==cartela[1,0] or cartela[4,0]==cartela[2,0] or cartela[4,0]==cartela[3,0]):\n",
    "        cartela[4,0] = random.randint(1, 15)\n",
    "\n",
    "        #gerando valores 2 coluna\n",
    "        \n",
    "    cartela[0,1] = random.randint(16, 30)\n",
    "    cartela[1,1] = random.randint(16, 30)\n",
    "    while(cartela[1,1]==cartela[0,1]):\n",
    "        cartela[1,1] = random.randint(16, 30)\n",
    "\n",
    "    cartela[2,1] = random.randint(16, 30)\n",
    "\n",
    "    while(cartela[2,1]==cartela[0,1] or cartela[2,1]==cartela[1,1]):\n",
    "        cartela[2,1] = random.randint(16, 30)\n",
    "\n",
    "    cartela[3,1] = random.randint(16, 30)\n",
    "\n",
    "    while(cartela[3,1]==cartela[0,1] or cartela[3,1]==cartela[1,1] or cartela[3,1]==cartela[2,1]):\n",
    "        cartela[3,1] = random.randint(16, 30)\n",
    "\n",
    "    cartela[4,1] = random.randint(16, 30)\n",
    "\n",
    "    while(cartela[4,1]==cartela[0,1] or cartela[4,1]==cartela[1,1] or cartela[4,1]==cartela[2,1] or cartela[4,1]==cartela[3,1]):\n",
    "        cartela[4,1] = random.randint(16, 30)       \n",
    "        \n",
    "    \n",
    "        #gerando valores 3 coluna\n",
    "\n",
    "    cartela[0,2] = random.randint(31, 45)\n",
    "    cartela[1,2] = random.randint(31, 45)\n",
    "    while(cartela[1,2]==cartela[0,2]):\n",
    "        cartela[1,2] = random.randint(31, 45)\n",
    "\n",
    "    cartela[2,2] = 0\n",
    "    \n",
    "    cartela[3,2] = random.randint(31, 45)\n",
    "    while(cartela[3,2]==cartela[0,2] or cartela[3,2]==cartela[1,2] or cartela[3,2]==cartela[2,2]):\n",
    "        cartela[3,2] = random.randint(31, 45)\n",
    "\n",
    "    cartela[4,2] = random.randint(31, 45)\n",
    "    while(cartela[4,2]==cartela[0,2] or cartela[4,2]==cartela[1,2] or cartela[4,2]==cartela[2,2] or cartela[4,2]==cartela[3,2]):\n",
    "        cartela[4,2] = random.randint(31, 45)\n",
    "        \n",
    "        \n",
    "        #gerando valores 4 coluna\n",
    "\n",
    "    cartela[0,3] = random.randint(46, 60)\n",
    "    cartela[1,3] = random.randint(46, 60)\n",
    "    while(cartela[1,3]==cartela[0,3]):\n",
    "        cartela[1,3] = random.randint(46, 60)\n",
    "\n",
    "    cartela[2,3] = random.randint(46, 60)\n",
    "\n",
    "    while(cartela[2,3]==cartela[0,3] or cartela[2,3]==cartela[1,3]):\n",
    "        cartela[2,3] = random.randint(46, 60)\n",
    "\n",
    "    cartela[3,3] = random.randint(46, 60)\n",
    "    while(cartela[3,3]==cartela[0,3] or cartela[3,3]==cartela[1,3] or cartela[3,3]==cartela[2,3]):\n",
    "        cartela[3,3] = random.randint(46, 60)\n",
    "\n",
    "    cartela[4,3] = random.randint(46, 60)\n",
    "\n",
    "    while(cartela[4,3]==cartela[0,3] or cartela[4,3]==cartela[1,3] or cartela[4,3]==cartela[2,3] or cartela[4,3]==cartela[3,3]):\n",
    "        cartela[4,3] = random.randint(46, 60)\n",
    "    \n",
    "    \n",
    "        #gerando valores 5 coluna\n",
    "\n",
    "    cartela[0,4] = random.randint(61, 75)\n",
    "    cartela[1,4] = random.randint(61, 75)\n",
    "    while(cartela[1,4]==cartela[0,4]):\n",
    "        cartela[1,4] = random.randint(61, 75)\n",
    "\n",
    "    cartela[2,4] = random.randint(61, 75)\n",
    "\n",
    "    while(cartela[2,4]==cartela[0,4] or cartela[2,4]==cartela[1,4]):\n",
    "        cartela[2,4] = random.randint(61, 75)\n",
    "\n",
    "    cartela[3,4] = random.randint(61, 75)\n",
    "    while(cartela[3,4]==cartela[0,4] or cartela[3,4]==cartela[1,4] or cartela[3,4]==cartela[2,4]):\n",
    "        cartela[3,4] = random.randint(61, 75)\n",
    "\n",
    "    cartela[4,4] = random.randint(61, 75)\n",
    "    while(cartela[4,4]==cartela[0,4] or cartela[4,4]==cartela[1,4] or cartela[4,4]==cartela[2,4] or cartela[4,4]==cartela[3,4]):\n",
    "        cartela[4,4] = random.randint(61, 75)\n",
    "        \n",
    "    print(cartela)"
   ]
  },
  {
   "cell_type": "code",
   "execution_count": 131,
   "metadata": {},
   "outputs": [
    {
     "name": "stdout",
     "output_type": "stream",
     "text": [
      "[[ 1. 16. 44. 55. 75.]\n",
      " [ 6. 30. 40. 46. 69.]\n",
      " [ 4. 28.  0. 47. 64.]\n",
      " [13. 27. 45. 56. 63.]\n",
      " [10. 26. 41. 60. 67.]]\n"
     ]
    }
   ],
   "source": [
    "cartelaBingo()"
   ]
  },
  {
   "cell_type": "code",
   "execution_count": null,
   "metadata": {},
   "outputs": [],
   "source": []
  }
 ],
 "metadata": {
  "kernelspec": {
   "display_name": "Python 3",
   "language": "python",
   "name": "python3"
  },
  "language_info": {
   "codemirror_mode": {
    "name": "ipython",
    "version": 3
   },
   "file_extension": ".py",
   "mimetype": "text/x-python",
   "name": "python",
   "nbconvert_exporter": "python",
   "pygments_lexer": "ipython3",
   "version": "3.6.5"
  }
 },
 "nbformat": 4,
 "nbformat_minor": 2
}
